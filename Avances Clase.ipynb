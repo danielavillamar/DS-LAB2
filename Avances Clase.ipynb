#importamos las librerías necesarias para trabajar
import numpy as np
import pandas as pd
import matplotlib.pyplot as plt
import seaborn as sns
from statsmodels.tsa.seasonal import seasonal_decompose
from statsmodels.tsa.stattools import adfuller
from pmdarima.arima.utils import ndiffs
from statsmodels.graphics.tsaplots import acf, plot_acf, plot_pacf
from statsmodels.tsa.arima_model import ARIMA
import pmdarima as pm
from sklearn.model_selection import train_test_split
import scipy.stats as stats
import statsmodels.api as sm

import datetime
def formato_fecha(df):
    fechas = []
    for i in range(0, len(df)):
        fecha = str(datetime.date(int(df["Anio"][i]), int(df["Mes"][i]), 1))
        fechas.append(fecha)
    
    df["Fechas"] = fechas
    
imp_com_id = pd.read_csv("DatosImportacionCombustibles.csv")
con_com_id = pd.read_csv("DatosConsumoCombustibles.csv")

imp_com = imp_com_id.drop(columns = "Unnamed: 0")
con_com = con_com_id.drop(columns = "Unnamed: 0")

data_con = con_com.drop(columns = ['GLP',
       'GasolinaAviacion', 'Kerosina', 'TurboJet', 'Bunker', 'Asfalto',
       'PetCoke', 'AceitesLubricantes', 'GrasasLubricantes', 'Solventes',
       'Naftas', 'Ceras', 'CrudoNacional', 'Butano', 'Orimulsion',
       'MezclasOleosas', 'DieselULS', 'TotalGasolinas', "Total", "TotalDiesel"])

data_imp = imp_com.drop(columns = ['GLP',
       'GasolinaAviacion', 'Kerosina', 'TurboJet', 'Bunker', 'Asfalto',
       'PetCoke', 'AceitesLubricantes', 'GrasasLubricantes', 'Solventes',
       'Naftas', 'Ceras', 'Butano', 'PetroleoReconstit', 'MTBE', 'Orimulsion',
       'MezclasOleosas', 'PetroleoCrudo', 'DieselULS', 'TotalGasolinas', "TotalMensual", "TotalDiesel"])

def agregar_diesel(df):
    for i in range(0, len(df)):
        if df["Anio"][i] == 2018 or df["Anio"][i] == 2019 or df["Anio"][i] == 2020 or df["Anio"][i] == 2021:
            df["Diesel"][i] = df["DieselLS"][i]
        else:
            df["Diesel"][i] == df["Diesel"][i]
            
agregar_diesel(data_con)
agregar_diesel(data_imp)

data_con.drop(columns = ["DieselLS"], inplace = True)
data_imp.drop(columns = ["DieselLS"],  inplace = True)

data_con.isna().sum().to_frame()
data_imp.isna().sum().to_frame()

sns.pairplot(data_con)

sns.pairplot(data_imp)

fig = plt.figure(figsize=(20,10)) 
ax = fig.add_subplot(131)
data_con.boxplot("GasolinaSuper")
ax.set_title("Boxplot 1: GasolinaSuper")
ax = fig.add_subplot(132)
data_con.boxplot("GasolinaRegular")
plt.title('Boxplot 2: GasolinaRegular')
ax = fig.add_subplot(133)
data_con.boxplot("Diesel")
ax.set_title("Boxplot 3: TotalDiesel")
plt.axis('tight')
plt.show()

fig = plt.figure(figsize=(20,10)) 
ax = fig.add_subplot(131)
data_imp.boxplot("GasolinaSuper")
ax.set_title("Boxplot 1: GasolinaSuper")
ax = fig.add_subplot(132)
data_imp.boxplot("GasolinaRegular")
plt.title('Boxplot 2: GasolinaRegular')
ax = fig.add_subplot(133)
data_imp.boxplot("Diesel")
ax.set_title("Boxplot 3: TotalDiesel")
plt.axis('tight')
plt.show()

columnas = ["GasolinaSuper", "GasolinaRegular", "Diesel"]
fig1 = plt.figure(figsize=(20,10)) 
for k in columnas:
    data_con.hist(k, bins = 16, color = "crimson")
    plt.title("Histograma variable " + str(k))
    
fig1 = plt.figure(figsize=(20,10)) 
for k in columnas:
    data_imp.hist(k, bins = 16, color = "crimson")
    plt.title("Histograma variable " + str(k))
    
fig = plt.figure(figsize=(20,5)) 
ax = fig.add_subplot(131)
data_con.groupby('Mes').GasolinaRegular.sum().plot.bar(color = "crimson")
ax.set_title("Consumo mensual GasolinaRegular")
plt.grid()
ax = fig.add_subplot(132)
data_con.groupby('Mes').GasolinaSuper.sum().plot.bar(color = "blue")
ax.set_title("Consumo mensual GasolinaSuper")
plt.grid()
ax = fig.add_subplot(133)
data_con.groupby('Mes').Diesel.sum().plot.bar(color = "crimson")
ax.set_title("Consumo mensual TotalDiesel")
plt.grid()
plt.axis('tight')
plt.show()

fig = plt.figure(figsize=(20,5)) 
ax = fig.add_subplot(131)
data_imp.groupby('Mes').GasolinaRegular.sum().plot.bar(color = "crimson")
ax.set_title("Importaciones mensuales GasolinaRegular")
plt.grid()
ax = fig.add_subplot(132)
data_imp.groupby('Mes').GasolinaSuper.sum().plot.bar(color = "blue")
ax.set_title("Importaciones mensuales GasolinaSuper")
plt.grid()
ax = fig.add_subplot(133)
data_imp.groupby('Mes').Diesel.sum().plot.bar(color = "crimson")
ax.set_title("Importaciones mensuales TotalDiesel")
plt.grid()
plt.axis('tight')
plt.show()

fig = plt.figure(figsize=(20,8))
data_con.groupby('Anio').GasolinaRegular.sum().plot.bar(color = "#ef534f")
plt.rcParams['axes.facecolor'] = '#edc876'
plt.xticks(rotation = 45)

fig = plt.figure(figsize=(20,8))
data_con.groupby('Anio').GasolinaSuper.sum().plot.bar(color = "#545454")
plt.rcParams['axes.facecolor'] = '#50b2ba'
plt.xticks(rotation = 45)

fig = plt.figure(figsize=(20,8))
data_con.groupby('Anio').Diesel.sum().plot.bar(color = "#edc876")
plt.rcParams['axes.facecolor'] = '#545454'
plt.xticks(rotation = 45)

fig = plt.figure(figsize=(20,8)) 
ax = fig.add_subplot(131)
data_con.groupby('Anio').GasolinaRegular.sum().plot.bar(color = "crimson")
ax.set_title("Consumo mensual GasolinaRegular")
plt.grid()
ax = fig.add_subplot(132)
data_con.groupby('Anio').GasolinaSuper.sum().plot.bar(color = "blue")
ax.set_title("Consumo mensual GasolinaSuper")
plt.grid()
ax = fig.add_subplot(133)
data_con.groupby('Anio').Diesel.sum().plot.bar(color = "crimson")
ax.set_title("Consumo mensual TotalDiesel")
plt.grid()
plt.axis('tight')
plt.show()

fig = plt.figure(figsize=(20,8)) 
ax = fig.add_subplot(131)
data_imp.groupby('Anio').GasolinaRegular.sum().plot.bar(color = "crimson")
ax.set_title("Importaciones mensuales GasolinaRegular")
plt.grid()
ax = fig.add_subplot(132)
data_imp.groupby('Anio').GasolinaSuper.sum().plot.bar(color = "blue")
ax.set_title("Importaciones mensuales GasolinaSuper")
plt.grid()
ax = fig.add_subplot(133)
data_imp.groupby('Anio').Diesel.sum().plot.bar(color = "crimson")
ax.set_title("Importaciones mensuales TotalDiesel")
plt.grid()
plt.axis('tight')
plt.show()

// SERIE DE CONSUMO

formato_fecha(data_con)
formato_fecha(data_imp)
data_con.index = data_con["Fechas"]
data_imp.index = data_imp["Fechas"]
fig = plt.figure(figsize=(20,8))
data_con["GasolinaRegular"].plot(color = "#ef534f")
plt.rcParams['axes.facecolor'] = '#edc876'
plt.grid(color = "white")
plt.xticks(rotation=45)

fig = plt.figure(figsize=(20,8))
data_con["GasolinaSuper"].plot(color = "#545454")
plt.rcParams['axes.facecolor'] = '#50b2ba'
plt.grid(color = "white")
plt.xticks(rotation=45)

fig = plt.figure(figsize=(20,8))
data_con["Diesel"].plot(color = "#edc876")
plt.rcParams['axes.facecolor'] = '#545454'
plt.grid(color = "white")
plt.xticks(rotation=45)

fig = plt.figure(figsize=(20,8)) 
ax = fig.add_subplot(131)
data_con["GasolinaSuper"].plot()
plt.grid()
plt.title("Serie de Tiempo para GasolinaSuper")
plt.ylabel("Consumo")
plt.xlabel("Mes")
plt.xticks(rotation=90)
ax = fig.add_subplot(132)
data_con["GasolinaRegular"].plot(color = "crimson")
plt.grid()
plt.title("Serie de Tiempo para GasolinaRegular")
plt.ylabel("Consumo")
plt.xlabel("Mes")
plt.xticks(rotation=90)
ax = fig.add_subplot(133)
data_con["Diesel"].plot()
plt.grid()
plt.title("Serie de Tiempo para GasolinaDiesel")
plt.ylabel("Consumo")
plt.xlabel("Mes")
plt.xticks(rotation=90)
plt.axis('tight')
plt.show()

